{
 "cells": [
  {
   "cell_type": "code",
   "execution_count": 1,
   "metadata": {},
   "outputs": [],
   "source": [
    "# package is a directory while module is file\n",
    "# package can have multiple module\n",
    "\n",
    "import sys"
   ]
  },
  {
   "cell_type": "code",
   "execution_count": 2,
   "metadata": {},
   "outputs": [
    {
     "data": {
      "text/plain": [
       "['',\n",
       " 'D:\\\\anaconda_new\\\\python36.zip',\n",
       " 'D:\\\\anaconda_new\\\\DLLs',\n",
       " 'D:\\\\anaconda_new\\\\lib',\n",
       " 'D:\\\\anaconda_new',\n",
       " 'D:\\\\anaconda_new\\\\lib\\\\site-packages',\n",
       " 'D:\\\\anaconda_new\\\\lib\\\\site-packages\\\\win32',\n",
       " 'D:\\\\anaconda_new\\\\lib\\\\site-packages\\\\win32\\\\lib',\n",
       " 'D:\\\\anaconda_new\\\\lib\\\\site-packages\\\\Pythonwin',\n",
       " 'D:\\\\anaconda_new\\\\lib\\\\site-packages\\\\IPython\\\\extensions',\n",
       " 'C:\\\\Users\\\\500063372\\\\.ipython']"
      ]
     },
     "execution_count": 2,
     "metadata": {},
     "output_type": "execute_result"
    }
   ],
   "source": [
    "sys.path"
   ]
  },
  {
   "cell_type": "code",
   "execution_count": 3,
   "metadata": {},
   "outputs": [
    {
     "data": {
      "text/plain": [
       "''"
      ]
     },
     "execution_count": 3,
     "metadata": {},
     "output_type": "execute_result"
    }
   ],
   "source": [
    "sys.path[0]"
   ]
  },
  {
   "cell_type": "code",
   "execution_count": 4,
   "metadata": {},
   "outputs": [
    {
     "data": {
      "text/plain": [
       "['D:\\\\anaconda_new\\\\lib\\\\site-packages\\\\win32',\n",
       " 'D:\\\\anaconda_new\\\\lib\\\\site-packages\\\\win32\\\\lib',\n",
       " 'D:\\\\anaconda_new\\\\lib\\\\site-packages\\\\Pythonwin',\n",
       " 'D:\\\\anaconda_new\\\\lib\\\\site-packages\\\\IPython\\\\extensions',\n",
       " 'C:\\\\Users\\\\500063372\\\\.ipython']"
      ]
     },
     "execution_count": 4,
     "metadata": {},
     "output_type": "execute_result"
    }
   ],
   "source": [
    "sys.path[-5:]"
   ]
  },
  {
   "cell_type": "code",
   "execution_count": 5,
   "metadata": {},
   "outputs": [],
   "source": [
    "# create a directory -> not_serached\n",
    "# create a file within same directory -> path_test.py\n",
    "# write the below code in the file"
   ]
  },
  {
   "cell_type": "code",
   "execution_count": null,
   "metadata": {},
   "outputs": [],
   "source": [
    "def found():\n",
    "    print(\"Python found me!\")"
   ]
  },
  {
   "cell_type": "code",
   "execution_count": 6,
   "metadata": {},
   "outputs": [
    {
     "ename": "ModuleNotFoundError",
     "evalue": "No module named 'path_test'",
     "output_type": "error",
     "traceback": [
      "\u001b[1;31m---------------------------------------------------------------------------\u001b[0m",
      "\u001b[1;31mModuleNotFoundError\u001b[0m                       Traceback (most recent call last)",
      "\u001b[1;32m<ipython-input-6-bea8dd365c92>\u001b[0m in \u001b[0;36m<module>\u001b[1;34m()\u001b[0m\n\u001b[1;32m----> 1\u001b[1;33m \u001b[1;32mimport\u001b[0m \u001b[0mpath_test\u001b[0m\u001b[1;33m\u001b[0m\u001b[0m\n\u001b[0m",
      "\u001b[1;31mModuleNotFoundError\u001b[0m: No module named 'path_test'"
     ]
    }
   ],
   "source": [
    "import path_test"
   ]
  },
  {
   "cell_type": "code",
   "execution_count": 7,
   "metadata": {},
   "outputs": [],
   "source": [
    "# to resolve the issue lets add the path_test module to sys.apth"
   ]
  },
  {
   "cell_type": "code",
   "execution_count": 8,
   "metadata": {},
   "outputs": [],
   "source": [
    "import sys"
   ]
  },
  {
   "cell_type": "code",
   "execution_count": 14,
   "metadata": {},
   "outputs": [
    {
     "ename": "SyntaxError",
     "evalue": "invalid syntax (<ipython-input-14-a0885789520f>, line 1)",
     "output_type": "error",
     "traceback": [
      "\u001b[1;36m  File \u001b[1;32m\"<ipython-input-14-a0885789520f>\"\u001b[1;36m, line \u001b[1;32m1\u001b[0m\n\u001b[1;33m    sys.path.append(/not_searched)\u001b[0m\n\u001b[1;37m                    ^\u001b[0m\n\u001b[1;31mSyntaxError\u001b[0m\u001b[1;31m:\u001b[0m invalid syntax\n"
     ]
    }
   ],
   "source": [
    "sys.path.append(not_searched) # 'not_searched'"
   ]
  },
  {
   "cell_type": "code",
   "execution_count": 10,
   "metadata": {},
   "outputs": [
    {
     "ename": "ModuleNotFoundError",
     "evalue": "No module named 'path_test'",
     "output_type": "error",
     "traceback": [
      "\u001b[1;31m---------------------------------------------------------------------------\u001b[0m",
      "\u001b[1;31mModuleNotFoundError\u001b[0m                       Traceback (most recent call last)",
      "\u001b[1;32m<ipython-input-10-bea8dd365c92>\u001b[0m in \u001b[0;36m<module>\u001b[1;34m()\u001b[0m\n\u001b[1;32m----> 1\u001b[1;33m \u001b[1;32mimport\u001b[0m \u001b[0mpath_test\u001b[0m\u001b[1;33m\u001b[0m\u001b[0m\n\u001b[0m",
      "\u001b[1;31mModuleNotFoundError\u001b[0m: No module named 'path_test'"
     ]
    }
   ],
   "source": [
    "import path_test"
   ]
  },
  {
   "cell_type": "code",
   "execution_count": null,
   "metadata": {},
   "outputs": [],
   "source": [
    "# PYTHONPATH -> for environment variable listing paths added to sys.path\n",
    "# export PYTHONPATH=not_searched\n",
    "import sys\n",
    "[p for p in sys.path if 'not_searched' in p]\n",
    "\n",
    "import path_test\n",
    "path_test.found()"
   ]
  },
  {
   "cell_type": "code",
   "execution_count": null,
   "metadata": {},
   "outputs": [],
   "source": [
    "# PACKAGE STRUCTURE\n",
    "\n",
    "#  path_entry/\n",
    "#     |-> my_package/\n",
    "#             |-> __init__.py\n",
    "\n",
    "# create a directory -> reader\n",
    "#     |-> create a file __init__.py -> touch reader/__init__.py\n",
    "# goto REPL and import reader\n",
    "# type(reader)\n",
    "# reader.__file__\n",
    "# vim __init__.py -> print('reader is being imported')\n",
    "#  now import reader\n",
    "# create a file name reader.py and add the following content\n",
    "class Reader:\n",
    "    def __init__(self,filename):\n",
    "        self.filename = filename\n",
    "        self.f = open(self.filename,'rt')\n",
    "        \n",
    "    def close(self):\n",
    "        self.f.close()\n",
    "        \n",
    "    def read(self):\n",
    "        return self.f.read()\n",
    "        \n",
    "# import again module reader\n",
    "# import reader.reader\n",
    "# reader.reader.__file__\n",
    "# r = reader.reader.Reader('reader/reader.py')\n",
    "# r.read()\n",
    "# r.close()\n",
    "\n",
    "# you will see reader.reader is writing looks ugly\n",
    "# so goto __init__.py file and add the follwing line of codes\n",
    "\n",
    "from reader.reader import Reader\n",
    "# now again try and import reader\n",
    "import reader\n",
    "\n",
    "r = reader.Reader('reader/__init__.py')\n",
    "r.read()\n",
    "r.close()"
   ]
  },
  {
   "cell_type": "code",
   "execution_count": null,
   "metadata": {},
   "outputs": [],
   "source": [
    "# Creating a subpackage\n",
    "# create a sub directory name compressed in reader folder\n",
    "mkdir reader/compressed\n",
    "touch reader/compressed/__init__.py\n",
    "\n",
    "# now import compressed module as below\n",
    "import reader.compressed\n",
    "\n",
    "# now create a filename gzipped.py in compressed folder\n",
    "vim gzipped.py\n",
    "\n",
    "# add the following code\n",
    "\n",
    "import gzip\n",
    "import sys\n",
    "\n",
    "opener = gzip.open\n",
    "\n",
    "if __name__ == '__main__':\n",
    "    f = gzip.open(sys.argv[1],mode='wt')\n",
    "    f.write(' '.join(sys.argv[2:]))\n",
    "    f.close()\n",
    "\n",
    "# similary create a file bzipped.py\n",
    "\n",
    "import bz2\n",
    "import sys\n",
    "\n",
    "opener = bz2.open\n",
    "\n",
    "if __name__ == '__main__':\n",
    "    f = bz2.open(sys.argv[1],mode='wt')\n",
    "    f.write(' '.join(sys.argv[2:]))\n",
    "    f.close()\n",
    "\n",
    "# now test the following on REPL\n",
    "\n",
    "import reader\n",
    "import reader.compressed\n",
    "import reader.compressed.gzipped\n",
    "import reader.compressed.bzipped\n"
   ]
  },
  {
   "cell_type": "code",
   "execution_count": null,
   "metadata": {},
   "outputs": [],
   "source": [
    "# now create a full program\n",
    "# open reader.py and the following line of codes above the code in reader.py\n",
    "\n",
    "import os\n",
    "\n",
    "from reader.compressed import bzipped, gzipped\n",
    "\n",
    "extension_map = {\n",
    "    '.gz': gzipped.opener,\n",
    "    '.bz2': bzipped.opener,\n",
    "}\n",
    "\n",
    "\n",
    "class Reader:\n",
    "    def __init__(self,filename):\n",
    "        extension = os.path.splitext(filename)[1]\n",
    "        opener = extension_map.get(extension,open)\n",
    "        self.f = opener(filename,'rt')\n",
    "        \n",
    "    def close(self):\n",
    "        self.f.close()\n",
    "        \n",
    "    def read(self):\n",
    "        return self.f.read()\n",
    "    \n",
    "# if extension is found it will use that else normal .txt will be used\n",
    "\n",
    "python3 -m reader.compressed.bzipped test.bz2 data compressed with bz2\n",
    "\n",
    "python3 -m reader.compressed.gzipped test.gz data compressed with gzip\n",
    "\n",
    "# ls # you will see two files with both extension\n",
    "# now use reader module to read files\n",
    "\n",
    "import reader\n",
    "\n",
    "r = reader.Reader('test.bz2')\n",
    "r.read()\n",
    "r.close()\n",
    "# do same with gz file\n",
    "\n"
   ]
  },
  {
   "cell_type": "code",
   "execution_count": null,
   "metadata": {},
   "outputs": [],
   "source": [
    "# controlling imports with __all__\n",
    "# run locals() on REPL\n",
    "# you will see none and some more info\n",
    "# now import reader and again run locals()\n",
    "# now goto compressed folder and open __init__.py file and add the following code\n",
    "\n",
    "from reader.compressed.bzipped import opener as bz2_opener\n",
    "from reader.compressed.gzipped import opener as gzip_opener\n",
    "\n",
    "__all__ = ['bz2_opener', 'gzip_opener']\n"
   ]
  },
  {
   "cell_type": "code",
   "execution_count": null,
   "metadata": {},
   "outputs": [],
   "source": [
    "# Namespace packages -> packages split across multiple directories\n",
    "# they don't have __init__.py file\n",
    "# avoid complex initialization ordering problems\n",
    "\n",
    "# HOW THE NAMESPACE PACKAGE are loaded if it does not contain __init__.py file\n",
    "# it scans the sys.path. all entries\n",
    "# if __init__.py file is found normal package is loaded\n",
    "# if foo.py file is found it is loaded"
   ]
  },
  {
   "cell_type": "code",
   "execution_count": 15,
   "metadata": {},
   "outputs": [
    {
     "name": "stdout",
     "output_type": "stream",
     "text": [
      "executing __main__.py with name __main__\n"
     ]
    },
    {
     "ename": "ModuleNotFoundError",
     "evalue": "No module named 'reader'",
     "output_type": "error",
     "traceback": [
      "\u001b[1;31m---------------------------------------------------------------------------\u001b[0m",
      "\u001b[1;31mModuleNotFoundError\u001b[0m                       Traceback (most recent call last)",
      "\u001b[1;32m<ipython-input-15-a6d1a32ee64f>\u001b[0m in \u001b[0;36m<module>\u001b[1;34m()\u001b[0m\n\u001b[0;32m      9\u001b[0m \u001b[1;33m\u001b[0m\u001b[0m\n\u001b[0;32m     10\u001b[0m \u001b[1;32mimport\u001b[0m \u001b[0msys\u001b[0m\u001b[1;33m\u001b[0m\u001b[0m\n\u001b[1;32m---> 11\u001b[1;33m \u001b[1;32mimport\u001b[0m \u001b[0mreader\u001b[0m\u001b[1;33m\u001b[0m\u001b[0m\n\u001b[0m",
      "\u001b[1;31mModuleNotFoundError\u001b[0m: No module named 'reader'"
     ]
    }
   ],
   "source": [
    "# EXECUTABLE DIRECTORIES\n",
    "# directories containing entrypoint for python execution\n",
    "# goto reader directory and add a file naming __main__.py add the following code\n",
    "print('executing __main__.py with name {}'.format(__name__))\n",
    "\n",
    "# now run the command python3 <pass the directory name>\n",
    "# ex: python3 reader // you will get print statement that we added in __main__.py of reader\n",
    "# Now add the following code in __main__.py and remove the print statement\n",
    "\n",
    "import sys\n",
    "import reader\n",
    "\n",
    "r = reader.Reader(sys.argv[1])\n",
    "try:\n",
    "    print(r.read())\n",
    "finally:\n",
    "    r.close()\n",
    "    \n",
    "# Now run :-> python3 <directory> <filename> -> python3 reader test.gz test.bz2"
   ]
  },
  {
   "cell_type": "code",
   "execution_count": null,
   "metadata": {},
   "outputs": [],
   "source": [
    "# making reader.zip\n",
    "# zip -r ../reader.zip *\n",
    "# python3 reader.zip test.gz"
   ]
  }
 ],
 "metadata": {
  "kernelspec": {
   "display_name": "Python 3",
   "language": "python",
   "name": "python3"
  },
  "language_info": {
   "codemirror_mode": {
    "name": "ipython",
    "version": 3
   },
   "file_extension": ".py",
   "mimetype": "text/x-python",
   "name": "python",
   "nbconvert_exporter": "python",
   "pygments_lexer": "ipython3",
   "version": "3.6.4"
  }
 },
 "nbformat": 4,
 "nbformat_minor": 2
}
