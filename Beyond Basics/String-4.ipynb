{
 "cells": [
  {
   "cell_type": "code",
   "execution_count": 3,
   "metadata": {},
   "outputs": [
    {
     "data": {
      "text/plain": [
       "'Point2D(x=72, y=99)'"
      ]
     },
     "execution_count": 3,
     "metadata": {},
     "output_type": "execute_result"
    }
   ],
   "source": [
    "# __str__() and __repr__()\n",
    "\n",
    "# repr() ->> produces unambigious string representation of an object\n",
    "\n",
    "\n",
    "class Point2D:\n",
    "    def __init__(self, x, y):\n",
    "        self.x = x\n",
    "        self.y = y\n",
    "        \n",
    "    def __str__(self):\n",
    "        return '({},{})'.format(self.x,self.y)\n",
    "    \n",
    "    def __repr__(self):\n",
    "        return 'Point2D(x={}, y={})'.format(self.x, self.y)\n",
    "    \n",
    "p = Point2D(72,99)\n",
    "repr(p)"
   ]
  },
  {
   "cell_type": "code",
   "execution_count": 4,
   "metadata": {},
   "outputs": [
    {
     "data": {
      "text/plain": [
       "'<__main__.Point2D object at 0x000001BC9D71FDD8>'"
      ]
     },
     "execution_count": 4,
     "metadata": {},
     "output_type": "execute_result"
    }
   ],
   "source": [
    "# repr() are best for debugging and logging, also for exactness than human friendliness, includes identifying information\n",
    "# generally contain more info than str()\n",
    "# repr() is for developers and str() is for clients\n",
    "# default repr() tell nothing much so its good to override them\n",
    "\n",
    "class Point2D:\n",
    "    def __init__(self, x, y):\n",
    "        self.x = x\n",
    "        self.y = y\n",
    "        \n",
    "    def __str__(self):\n",
    "        return '({},{})'.format(self.x,self.y)\n",
    "    \n",
    "p2 = Point2D(99,72)\n",
    "repr(p2)"
   ]
  },
  {
   "cell_type": "code",
   "execution_count": 10,
   "metadata": {},
   "outputs": [
    {
     "name": "stdout",
     "output_type": "stream",
     "text": [
      "(26,5)\n",
      "The circle center is at (26,5)\n",
      "The circle center is at Point2D(x=26, y=5)\n"
     ]
    }
   ],
   "source": [
    "# str() produces readable, human friendly representation of a object\n",
    "# its also the string constructor\n",
    "\n",
    "class Point2D:\n",
    "    def __init__(self, x, y):\n",
    "        self.x = x\n",
    "        self.y = y\n",
    "        \n",
    "    def __str__(self):\n",
    "        return '({},{})'.format(self.x,self.y)\n",
    "    \n",
    "    def __repr__(self):\n",
    "        return 'Point2D(x={}, y={})'.format(self.x, self.y)\n",
    "    \n",
    "p9 = Point2D(26,5)\n",
    "print(str(p9))\n",
    "print('The circle center is at {}'.format(p9))\n",
    "print('The circle center is at {}'.format(repr(p9)))"
   ]
  },
  {
   "cell_type": "code",
   "execution_count": 5,
   "metadata": {},
   "outputs": [
    {
     "name": "stdout",
     "output_type": "stream",
     "text": [
      "Point2D(x=31, y=10)\n"
     ]
    }
   ],
   "source": [
    "# by default str() simply calls repr(), but reverse is not true\n",
    "\n",
    "class Point2D:\n",
    "    def __init__(self, x, y):\n",
    "        self.x = x\n",
    "        self.y = y\n",
    "        \n",
    "#     def __str__(self):\n",
    "#         return '({},{})'.format(self.x,self.y)\n",
    "    \n",
    "    def __repr__(self):\n",
    "        return 'Point2D(x={}, y={})'.format(self.x, self.y)\n",
    "    \n",
    "p3 = Point2D(31,10)\n",
    "print(str(p3))"
   ]
  },
  {
   "cell_type": "code",
   "execution_count": 6,
   "metadata": {},
   "outputs": [
    {
     "name": "stdout",
     "output_type": "stream",
     "text": [
      "[Point2D(x=0, y=0), Point2D(x=1, y=2), Point2D(x=2, y=4)]\n",
      "[Point2D(x=0, y=0), Point2D(x=1, y=2), Point2D(x=2, y=4)]\n"
     ]
    }
   ],
   "source": [
    "# repr() is used when showing element of collection\n",
    "\n",
    "class Point2D:\n",
    "    def __init__(self, x, y):\n",
    "        self.x = x\n",
    "        self.y = y\n",
    "        \n",
    "    def __str__(self):\n",
    "        return '({},{})'.format(self.x,self.y)\n",
    "    \n",
    "    def __repr__(self):\n",
    "        return 'Point2D(x={}, y={})'.format(self.x, self.y)\n",
    "    \n",
    "l = [Point2D(i,i*2) for i in range(3)]\n",
    "print(str(l))\n",
    "print(repr(l))"
   ]
  },
  {
   "cell_type": "code",
   "execution_count": 7,
   "metadata": {},
   "outputs": [
    {
     "name": "stdout",
     "output_type": "stream",
     "text": [
      "{0: Point2D(x=0, y=0), 1: Point2D(x=1, y=2), 2: Point2D(x=2, y=4)}\n"
     ]
    }
   ],
   "source": [
    "d = {i: Point2D(i, i*2) for i in range(3)}\n",
    "print(d)"
   ]
  },
  {
   "cell_type": "code",
   "execution_count": 11,
   "metadata": {},
   "outputs": [
    {
     "name": "stdout",
     "output_type": "stream",
     "text": [
      "The point in formmated form: [Formatted Point: 72, 99, ]\n"
     ]
    }
   ],
   "source": [
    "# format() methods ->> invoked by str.format()\n",
    "# more complex\n",
    "\n",
    "class Point2D:\n",
    "    def __init__(self, x, y):\n",
    "        self.x = x\n",
    "        self.y = y\n",
    "        \n",
    "    def __str__(self):\n",
    "        return '({},{})'.format(self.x,self.y)\n",
    "    \n",
    "    def __repr__(self):\n",
    "        return 'Point2D(x={}, y={})'.format(self.x, self.y)\n",
    "    \n",
    "    def __format__(self, f):\n",
    "        return '[Formatted Point: {}, {}, {}]'.format(self.x,self.y,f)\n",
    "    \n",
    "print('The point in formmated form: {}'.format(Point2D(72,99)))"
   ]
  },
  {
   "cell_type": "code",
   "execution_count": 12,
   "metadata": {},
   "outputs": [
    {
     "name": "stdout",
     "output_type": "stream",
     "text": [
      "72, 99\n"
     ]
    }
   ],
   "source": [
    "# by default __format__() just calls __str__()\n",
    "\n",
    "class Point2D:\n",
    "    def __init__(self, x, y):\n",
    "        self.x = x\n",
    "        self.y = y\n",
    "        \n",
    "    def __str__(self):\n",
    "        return '({},{})'.format(self.x,self.y)\n",
    "    \n",
    "    def __repr__(self):\n",
    "        return 'Point2D(x={}, y={})'.format(self.x, self.y)\n",
    "    \n",
    "    def __format__(self, f):\n",
    "        if f == 'r':\n",
    "            return '{}, {}'.format(self.y,self.x)\n",
    "        else:\n",
    "            return '{}, {}'.format(self.x,self.y)\n",
    "        \n",
    "        \n",
    "print('{:r}'.format(Point2D(99,72)))"
   ]
  },
  {
   "cell_type": "code",
   "execution_count": 15,
   "metadata": {},
   "outputs": [
    {
     "name": "stdout",
     "output_type": "stream",
     "text": [
      "Point2D(x=99, y=72)\n",
      "(99,72)\n"
     ]
    }
   ],
   "source": [
    "# !r forces the use of __repr__()\n",
    "# !s forces to use __str__()\n",
    "\n",
    "class Point2D:\n",
    "    def __init__(self, x, y):\n",
    "        self.x = x\n",
    "        self.y = y\n",
    "        \n",
    "    def __str__(self):\n",
    "        return '({},{})'.format(self.x,self.y)\n",
    "    \n",
    "    def __repr__(self):\n",
    "        return 'Point2D(x={}, y={})'.format(self.x, self.y)\n",
    "    \n",
    "    def __format__(self, f):\n",
    "        if f == 'r':\n",
    "            return '{}, {}'.format(self.y,self.x)\n",
    "        else:\n",
    "            return '{}, {}'.format(self.x,self.y)\n",
    "        \n",
    "        \n",
    "print('{!r}'.format(Point2D(99,72))) # format specification which is optional\n",
    "print('{!s}'.format(Point2D(99,72)))"
   ]
  },
  {
   "cell_type": "code",
   "execution_count": 17,
   "metadata": {},
   "outputs": [],
   "source": [
    "import reprlib # module for inbuilt replacement of repr() method for larger string\n",
    "\n",
    "points = [Point2D(x,y) for x in range(1000) for y in range(1000)]"
   ]
  },
  {
   "cell_type": "code",
   "execution_count": 18,
   "metadata": {},
   "outputs": [
    {
     "data": {
      "text/plain": [
       "1000000"
      ]
     },
     "execution_count": 18,
     "metadata": {},
     "output_type": "execute_result"
    }
   ],
   "source": [
    "len(points)"
   ]
  },
  {
   "cell_type": "code",
   "execution_count": 19,
   "metadata": {},
   "outputs": [
    {
     "data": {
      "text/plain": [
       "'[Point2D(x=0, y=0), Point2D(x=0, y=1), Point2D(x=0, y=2), Point2D(x=0, y=3), Point2D(x=0, y=4), Point2D(x=0, y=5), ...]'"
      ]
     },
     "execution_count": 19,
     "metadata": {},
     "output_type": "execute_result"
    }
   ],
   "source": [
    "reprlib.repr(points)"
   ]
  },
  {
   "cell_type": "code",
   "execution_count": 22,
   "metadata": {},
   "outputs": [],
   "source": [
    "# ascii() ->> takes string as input and convert all character to ascii characters with escape sequences\n",
    "# ord()\n",
    "# chr()\n",
    "\n",
    "# ord(chr('string'))\n",
    "# chr(ord('string))"
   ]
  },
  {
   "cell_type": "code",
   "execution_count": null,
   "metadata": {},
   "outputs": [],
   "source": []
  }
 ],
 "metadata": {
  "kernelspec": {
   "display_name": "Python 3",
   "language": "python",
   "name": "python3"
  },
  "language_info": {
   "codemirror_mode": {
    "name": "ipython",
    "version": 3
   },
   "file_extension": ".py",
   "mimetype": "text/x-python",
   "name": "python",
   "nbconvert_exporter": "python",
   "pygments_lexer": "ipython3",
   "version": "3.6.4"
  }
 },
 "nbformat": 4,
 "nbformat_minor": 2
}
