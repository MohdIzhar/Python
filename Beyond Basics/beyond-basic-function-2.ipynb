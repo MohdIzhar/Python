{
 "cells": [
  {
   "cell_type": "code",
   "execution_count": null,
   "metadata": {},
   "outputs": [],
   "source": [
    "# callable instances __call__()\n",
    "# create a file name resolve.py\n",
    "# to test no REPL \"from resolve import Resolver\"\n",
    "\n",
    "import socket\n",
    "\n",
    "class Resolver:\n",
    "    def __init__(self):\n",
    "        self._cache = {}\n",
    "        \n",
    "    def __call__(self,host):\n",
    "        if host not in self._cache:\n",
    "            self._cache[host] = socket.gethostbyname(host)\n",
    "        return self._cache[host]\n",
    "    \n",
    "    def clear(self):\n",
    "        self._cache.clear()\n",
    "        \n",
    "    def has_host(self,host):\n",
    "        return host in self._cache\n",
    "# \"from resolve import Resolver\"\n",
    "# resolve = Resolver()\n",
    "# resolve.has_host(\"abc.com\")\n",
    "# resolve(\"xyz.com\")"
   ]
  },
  {
   "cell_type": "code",
   "execution_count": 1,
   "metadata": {},
   "outputs": [],
   "source": [
    "# classess are callable\n",
    "\n",
    "def sequence_class(immutable):\n",
    "    if immutable:\n",
    "        cls = tuple\n",
    "    else:\n",
    "        cls = list\n",
    "    return cls"
   ]
  },
  {
   "cell_type": "code",
   "execution_count": 2,
   "metadata": {},
   "outputs": [
    {
     "data": {
      "text/plain": [
       "('I', 'z', 'h', 'a', 'r')"
      ]
     },
     "execution_count": 2,
     "metadata": {},
     "output_type": "execute_result"
    }
   ],
   "source": [
    "seq = sequence_class(immutable=\"True\")\n",
    "t = seq(\"Izhar\")\n",
    "t"
   ]
  },
  {
   "cell_type": "code",
   "execution_count": 3,
   "metadata": {},
   "outputs": [
    {
     "data": {
      "text/plain": [
       "tuple"
      ]
     },
     "execution_count": 3,
     "metadata": {},
     "output_type": "execute_result"
    }
   ],
   "source": [
    "type(t)"
   ]
  },
  {
   "cell_type": "code",
   "execution_count": null,
   "metadata": {},
   "outputs": [],
   "source": [
    "# conditional expression\n",
    "result = true_value if condition else false_value"
   ]
  },
  {
   "cell_type": "code",
   "execution_count": 6,
   "metadata": {},
   "outputs": [
    {
     "name": "stdout",
     "output_type": "stream",
     "text": [
      "2\n",
      "3\n",
      "(4, 5, 6)\n",
      "None\n",
      "2\n",
      "3\n",
      "(4, 5, 6)\n",
      "7\n",
      "72\n",
      "{'kwargs7': 8, 'kwargs3': 99, 'kwargs4': 9}\n",
      "None\n",
      "r=  64\n",
      "g= 99\n",
      "b= 72\n"
     ]
    }
   ],
   "source": [
    "# args, *args, kwargs, **kwargs -> this follows the order in a function\n",
    "\n",
    "def tag(args1,args2,*args):\n",
    "    print(args1)\n",
    "    print(args2)\n",
    "    print(args)\n",
    "\n",
    "def tag(*args,**kwargs):\n",
    "    print(args)\n",
    "    print(kwargs)\n",
    "    \n",
    "def tag(args1,args2,*args,kwargs1):\n",
    "    print(args1)\n",
    "    print(args2)\n",
    "    print(args)\n",
    "print(tag(2,3,4,5,6,kwargs1=7))\n",
    "\n",
    "\n",
    "def tag(args1,args2,*args,kwargs1,kwargs2,**kwargs):\n",
    "    print(args1)\n",
    "    print(args2)\n",
    "    print(args)\n",
    "    print(kwargs1)\n",
    "    print(kwargs2)\n",
    "    print(kwargs)\n",
    "    \n",
    "print(tag(2,3,4,5,6,kwargs1=7,kwargs7=8,kwargs2=72,kwargs3=99,kwargs4=9))\n",
    "\n",
    "\n",
    "# def tag(args1,args2,*args,kwargs1,kwargs2,**kwargs,kwargs5): # not valid\n",
    "#     pass\n",
    "\n",
    "def color(red,green,blue,**kwargs):\n",
    "    print('r= ',red)\n",
    "    print('g=',green)\n",
    "    print('b=',blue)\n",
    "    \n",
    "k = {'red': 64, 'green': 99, 'blue': 72, 'alpha': 54}\n",
    "color(**k)\n"
   ]
  },
  {
   "cell_type": "code",
   "execution_count": 9,
   "metadata": {},
   "outputs": [
    {
     "name": "stdout",
     "output_type": "stream",
     "text": [
      "255\n",
      "args=  ('ff',)\n",
      "kwargs=  {'base': 16}\n",
      "result= 255\n"
     ]
    },
    {
     "data": {
      "text/plain": [
       "255"
      ]
     },
     "execution_count": 9,
     "metadata": {},
     "output_type": "execute_result"
    }
   ],
   "source": [
    "# forwarded arguments\n",
    "\n",
    "def trace(f,*args,**kwargs):\n",
    "    print(\"args= \",args)\n",
    "    print(\"kwargs= \",kwargs)\n",
    "    result= f(*args,**kwargs)\n",
    "    print(\"result=\",result)\n",
    "    return result\n",
    "\n",
    "print(int(\"ff\",base=16))\n",
    "trace(int,\"ff\",base=16)"
   ]
  },
  {
   "cell_type": "code",
   "execution_count": 10,
   "metadata": {},
   "outputs": [
    {
     "name": "stdout",
     "output_type": "stream",
     "text": [
      "(23, 72)\n",
      "(45, 99)\n",
      "(56, 5)\n",
      "(7, 3)\n",
      "(8, 8)\n",
      "(9, 9)\n",
      "(12, 4)\n"
     ]
    }
   ],
   "source": [
    "# zip function in python convert rows to columns\n",
    "\n",
    "sunday = [23,45,56,7,8,9,12]\n",
    "monday = [72,99,5,3,8,9,4]\n",
    "\n",
    "for item in zip(sunday,monday):\n",
    "    print(item)\n",
    "\n",
    "tuesday = [9,4,7,4,2,1,6]\n",
    "\n"
   ]
  },
  {
   "cell_type": "code",
   "execution_count": 11,
   "metadata": {},
   "outputs": [
    {
     "name": "stdout",
     "output_type": "stream",
     "text": [
      "(23, 72, 9)\n",
      "(45, 99, 4)\n",
      "(56, 5, 7)\n",
      "(7, 3, 4)\n",
      "(8, 8, 2)\n",
      "(9, 9, 1)\n",
      "(12, 4, 6)\n"
     ]
    }
   ],
   "source": [
    "for item in zip(sunday,monday,tuesday):\n",
    "    print(item)"
   ]
  },
  {
   "cell_type": "code",
   "execution_count": 12,
   "metadata": {},
   "outputs": [],
   "source": [
    "daily = [sunday,monday,tuesday]\n",
    "from pprintnt import pprint as pp"
   ]
  },
  {
   "cell_type": "code",
   "execution_count": 13,
   "metadata": {},
   "outputs": [
    {
     "name": "stdout",
     "output_type": "stream",
     "text": [
      "[[23, 45, 56, 7, 8, 9, 12], [72, 99, 5, 3, 8, 9, 4], [9, 4, 7, 4, 2, 1, 6]]\n"
     ]
    }
   ],
   "source": [
    "pp(daily)"
   ]
  },
  {
   "cell_type": "code",
   "execution_count": 14,
   "metadata": {},
   "outputs": [
    {
     "name": "stdout",
     "output_type": "stream",
     "text": [
      "(23, 72, 9)\n",
      "(45, 99, 4)\n",
      "(56, 5, 7)\n",
      "(7, 3, 4)\n",
      "(8, 8, 2)\n",
      "(9, 9, 1)\n",
      "(12, 4, 6)\n"
     ]
    }
   ],
   "source": [
    "for item in zip(daily[0],daily[1],daily[2]):\n",
    "    print(item)"
   ]
  },
  {
   "cell_type": "code",
   "execution_count": 15,
   "metadata": {},
   "outputs": [
    {
     "name": "stdout",
     "output_type": "stream",
     "text": [
      "(23, 72, 9)\n",
      "(45, 99, 4)\n",
      "(56, 5, 7)\n",
      "(7, 3, 4)\n",
      "(8, 8, 2)\n",
      "(9, 9, 1)\n",
      "(12, 4, 6)\n"
     ]
    }
   ],
   "source": [
    "for item in zip(*daily):\n",
    "    print(item)"
   ]
  },
  {
   "cell_type": "code",
   "execution_count": 16,
   "metadata": {},
   "outputs": [
    {
     "data": {
      "text/plain": [
       "[(23, 72, 9),\n",
       " (45, 99, 4),\n",
       " (56, 5, 7),\n",
       " (7, 3, 4),\n",
       " (8, 8, 2),\n",
       " (9, 9, 1),\n",
       " (12, 4, 6)]"
      ]
     },
     "execution_count": 16,
     "metadata": {},
     "output_type": "execute_result"
    }
   ],
   "source": [
    "transposed = list(zip(*daily))\n",
    "transposed"
   ]
  },
  {
   "cell_type": "code",
   "execution_count": null,
   "metadata": {},
   "outputs": [],
   "source": []
  }
 ],
 "metadata": {
  "kernelspec": {
   "display_name": "Python 3",
   "language": "python",
   "name": "python3"
  },
  "language_info": {
   "codemirror_mode": {
    "name": "ipython",
    "version": 3
   },
   "file_extension": ".py",
   "mimetype": "text/x-python",
   "name": "python",
   "nbconvert_exporter": "python",
   "pygments_lexer": "ipython3",
   "version": "3.6.4"
  }
 },
 "nbformat": 4,
 "nbformat_minor": 2
}
