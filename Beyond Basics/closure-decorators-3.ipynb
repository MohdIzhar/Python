{
 "cells": [
  {
   "cell_type": "code",
   "execution_count": 5,
   "metadata": {},
   "outputs": [
    {
     "name": "stdout",
     "output_type": "stream",
     "text": [
      "['name', 'Izhar', 'is', 'My']\n",
      "[<function sort_by_last_letter.<locals>.last_letter at 0x0000019832E54E18>]\n"
     ]
    },
    {
     "data": {
      "text/plain": [
       "['name', 'Izhar', 'is', 'My']"
      ]
     },
     "execution_count": 5,
     "metadata": {},
     "output_type": "execute_result"
    }
   ],
   "source": [
    "# def is executed at runtime\n",
    "def sort_by_last_letter(string):\n",
    "    def last_letter(s):\n",
    "        return s[-1]\n",
    "    return sorted(string,key=last_letter)\n",
    "\n",
    "# filename = sort_by_last_letter\n",
    "# from sort_by_last_letter import sort_by_last_letter\n",
    "\n",
    "print(sort_by_last_letter(['My','name','is','Izhar']))\n",
    "\n",
    "# a new function is created when def is called each time\n",
    "store = []\n",
    "def sort_by_last_letter(string):\n",
    "    def last_letter(s):\n",
    "        return s[-1]\n",
    "    store.append(last_letter)\n",
    "    print(store)\n",
    "    return sorted(string,key=last_letter)\n",
    "\n",
    "sort_by_last_letter(['My','name','is','Izhar'])"
   ]
  },
  {
   "cell_type": "code",
   "execution_count": 8,
   "metadata": {},
   "outputs": [
    {
     "name": "stdout",
     "output_type": "stream",
     "text": [
      "global local parameter\n"
     ]
    },
    {
     "ename": "AttributeError",
     "evalue": "'function' object has no attribute 'inner'",
     "output_type": "error",
     "traceback": [
      "\u001b[1;31m---------------------------------------------------------------------------\u001b[0m",
      "\u001b[1;31mAttributeError\u001b[0m                            Traceback (most recent call last)",
      "\u001b[1;32m<ipython-input-8-6e3d1f8445aa>\u001b[0m in \u001b[0;36m<module>\u001b[1;34m()\u001b[0m\n\u001b[0;32m     13\u001b[0m \u001b[1;31m# check using via accessing the attribute from outer function you will get the error\u001b[0m\u001b[1;33m\u001b[0m\u001b[1;33m\u001b[0m\u001b[0m\n\u001b[0;32m     14\u001b[0m \u001b[1;33m\u001b[0m\u001b[0m\n\u001b[1;32m---> 15\u001b[1;33m \u001b[0mouter\u001b[0m\u001b[1;33m.\u001b[0m\u001b[0minner\u001b[0m\u001b[1;33m(\u001b[0m\u001b[1;33m)\u001b[0m\u001b[1;33m\u001b[0m\u001b[0m\n\u001b[0m",
      "\u001b[1;31mAttributeError\u001b[0m: 'function' object has no attribute 'inner'"
     ]
    }
   ],
   "source": [
    "# LEGB RULE -> Local scope, Enclosing scope, Global scope and Builtin scope is checked in function\n",
    "\n",
    "g = \"global\"\n",
    "def outer(p=\"parameter\"):\n",
    "    l = \"local\"\n",
    "    def inner():\n",
    "        print(g,l,p)\n",
    "    inner()\n",
    "    \n",
    "outer()\n",
    "\n",
    "# inner function are just member of outer function not the function\n",
    "# check using via accessing the attribute from outer function you will get the error\n",
    "\n",
    "outer.inner()"
   ]
  },
  {
   "cell_type": "code",
   "execution_count": 10,
   "metadata": {},
   "outputs": [
    {
     "name": "stdout",
     "output_type": "stream",
     "text": [
      "local func\n"
     ]
    }
   ],
   "source": [
    "def enclosing():\n",
    "    def local_fun():\n",
    "        print('local func')\n",
    "    return local_fun\n",
    "\n",
    "lf = enclosing()\n",
    "lf()"
   ]
  },
  {
   "cell_type": "code",
   "execution_count": 11,
   "metadata": {},
   "outputs": [
    {
     "name": "stdout",
     "output_type": "stream",
     "text": [
      "closed over\n"
     ]
    },
    {
     "data": {
      "text/plain": [
       "(<cell at 0x0000019833E543D8: str object at 0x0000019833F930B0>,)"
      ]
     },
     "execution_count": 11,
     "metadata": {},
     "output_type": "execute_result"
    }
   ],
   "source": [
    "# closure maintains references to objects from earlier scopes\n",
    "\n",
    "def enclosing():\n",
    "    x = \"closed over\"\n",
    "    def local_fun():\n",
    "        print(x)\n",
    "    return local_fun\n",
    "\n",
    "lf = enclosing()\n",
    "lf()\n",
    "lf.__closure__"
   ]
  },
  {
   "cell_type": "code",
   "execution_count": 14,
   "metadata": {},
   "outputs": [
    {
     "name": "stdout",
     "output_type": "stream",
     "text": [
      "81\n",
      "15625\n"
     ]
    }
   ],
   "source": [
    "# function factories -> function that return new specialized function\n",
    "\n",
    "def raise_to(exp):\n",
    "    def raise_to_exp(n):\n",
    "        return pow(n,exp)\n",
    "    return raise_to_exp\n",
    "\n",
    "square = raise_to(2)\n",
    "print(square(9))\n",
    "cube = raise_to(3)\n",
    "print(cube(25))"
   ]
  },
  {
   "cell_type": "code",
   "execution_count": 16,
   "metadata": {},
   "outputs": [
    {
     "name": "stdout",
     "output_type": "stream",
     "text": [
      "global msg: global\n",
      "enclosing msg: enclosing\n",
      "enclosing msg: enclosing\n",
      "global msg: global\n"
     ]
    }
   ],
   "source": [
    "# LEGB doesn't apply when making new binding\n",
    "\n",
    "message = \"global\"\n",
    "def enclosing():\n",
    "    message = \"enclosing\"\n",
    "    def local():\n",
    "        message = \"local\"\n",
    "    print(\"enclosing msg:\",message)\n",
    "    local()\n",
    "    print(\"enclosing msg:\",message)\n",
    "    \n",
    "print(\"global msg:\",message)\n",
    "enclosing()\n",
    "print(\"global msg:\",message)\n",
    "\n",
    "# GLOBAL keyword\n",
    "\n"
   ]
  },
  {
   "cell_type": "code",
   "execution_count": 18,
   "metadata": {},
   "outputs": [
    {
     "name": "stdout",
     "output_type": "stream",
     "text": [
      "global msg: global\n",
      "enclosing msg: enclosing\n",
      "enclosing msg: enclosing\n",
      "global msg: local\n"
     ]
    }
   ],
   "source": [
    "# GLOBAL keyword\n",
    "\n",
    "message = \"global\"\n",
    "def enclosing():\n",
    "    message = \"enclosing\"\n",
    "    def local():\n",
    "        global message \n",
    "        message = \"local\"\n",
    "    print(\"enclosing msg:\",message)\n",
    "    local()\n",
    "    print(\"enclosing msg:\",message)\n",
    "    \n",
    "print(\"global msg:\",message)\n",
    "enclosing()\n",
    "print(\"global msg:\",message)\n"
   ]
  },
  {
   "cell_type": "code",
   "execution_count": 19,
   "metadata": {},
   "outputs": [
    {
     "name": "stdout",
     "output_type": "stream",
     "text": [
      "global msg: global\n",
      "enclosing msg: enclosing\n",
      "enclosing msg: local\n",
      "global msg: global\n"
     ]
    }
   ],
   "source": [
    "# nonlocal -> introduces names from the enclosing namespaces to local namespaces \n",
    "# if variable is not found return error\n",
    "\n",
    "message = \"global\"\n",
    "def enclosing():\n",
    "    message = \"enclosing\"\n",
    "    def local():\n",
    "        nonlocal message \n",
    "        message = \"local\"\n",
    "    print(\"enclosing msg:\",message)\n",
    "    local()\n",
    "    print(\"enclosing msg:\",message)\n",
    "    \n",
    "print(\"global msg:\",message)\n",
    "enclosing()\n",
    "print(\"global msg:\",message)"
   ]
  },
  {
   "cell_type": "code",
   "execution_count": 23,
   "metadata": {},
   "outputs": [
    {
     "name": "stdout",
     "output_type": "stream",
     "text": [
      "Hello, Izhar\n",
      "Hello, Mdi\n",
      "Hello, Mohd Izhar\n"
     ]
    },
    {
     "data": {
      "text/plain": [
       "3"
      ]
     },
     "execution_count": 23,
     "metadata": {},
     "output_type": "execute_result"
    }
   ],
   "source": [
    "# DECORATORS -> modify or enhance functions without changing their definition\n",
    "# implemented as callable that take and return callable\n",
    "\n",
    "class CallCount:\n",
    "    def __init__(self,f):\n",
    "        self.f = f\n",
    "        self.count = 0\n",
    "        \n",
    "    def __call__(self,*args,**kwargs):\n",
    "        self.count += 1\n",
    "        return self.f(*args,**kwargs)\n",
    "\n",
    "@CallCount\n",
    "def hello(name):\n",
    "    print(\"Hello, {}\".format(name))\n",
    "    \n",
    "# from callcount(filename) import hello\n",
    "hello(\"Izhar\")\n",
    "hello(\"Mdi\")\n",
    "hello(\"Mohd Izhar\")\n",
    "hello.count\n"
   ]
  },
  {
   "cell_type": "code",
   "execution_count": 28,
   "metadata": {},
   "outputs": [
    {
     "name": "stdout",
     "output_type": "stream",
     "text": [
      "Calling <function rotate_list at 0x0000019833FA92F0>\n",
      "[2, 3, 1]\n",
      "Calling <function rotate_list at 0x0000019833FA92F0>\n",
      "[3, 1, 2]\n"
     ]
    }
   ],
   "source": [
    "# Instances as Deocrators\n",
    "\n",
    "class Tracer:\n",
    "    def __init__(self):\n",
    "        self.enabled = True\n",
    "    \n",
    "    def __call__(self,f):\n",
    "        def wrap(*args,**kwargs):\n",
    "            if self.enabled:\n",
    "                print(\"Calling {}\".format(f))\n",
    "            return f(*args,**kwargs)\n",
    "        return wrap\n",
    "    \n",
    "tracer = Tracer()\n",
    "\n",
    "@tracer\n",
    "def rotate_list(l):\n",
    "    return l[1:] + [l[0]]\n",
    "\n",
    "# from tracer import rotate_list, tracer\n",
    "l = [1,2,3]\n",
    "l = rotate_list(l)\n",
    "print(l)\n",
    "l = rotate_list(l)\n",
    "print(l)"
   ]
  },
  {
   "cell_type": "code",
   "execution_count": null,
   "metadata": {},
   "outputs": [],
   "source": [
    "# multiple decorators can be used\n",
    "@decorator1\n",
    "@decorator2\n",
    "@decorator3\n",
    "def f():\n",
    "    pass"
   ]
  }
 ],
 "metadata": {
  "kernelspec": {
   "display_name": "Python 3",
   "language": "python",
   "name": "python3"
  },
  "language_info": {
   "codemirror_mode": {
    "name": "ipython",
    "version": 3
   },
   "file_extension": ".py",
   "mimetype": "text/x-python",
   "name": "python",
   "nbconvert_exporter": "python",
   "pygments_lexer": "ipython3",
   "version": "3.6.4"
  }
 },
 "nbformat": 4,
 "nbformat_minor": 2
}
