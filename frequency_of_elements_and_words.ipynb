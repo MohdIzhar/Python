{
 "cells": [
  {
   "cell_type": "code",
   "execution_count": 1,
   "metadata": {},
   "outputs": [],
   "source": [
    "import collections"
   ]
  },
  {
   "cell_type": "code",
   "execution_count": 2,
   "metadata": {},
   "outputs": [
    {
     "name": "stdout",
     "output_type": "stream",
     "text": [
      "Frequency of the elements in the List :  Counter({10: 4, 20: 4, 40: 2, 50: 2, 30: 1})\n"
     ]
    }
   ],
   "source": [
    "lst = [10,10,10,10,20,20,20,20,40,40,50,50,30]\n",
    "ctr = collections.Counter(lst)\n",
    "print(\"Frequency of the elements in the List : \",ctr)"
   ]
  },
  {
   "cell_type": "code",
   "execution_count": 5,
   "metadata": {},
   "outputs": [
    {
     "name": "stdout",
     "output_type": "stream",
     "text": [
      "enter string: My name is Mohd Izhar hey i am mohd izhar\n",
      "frequency:  Counter({'mohd': 2, 'izhar': 2, 'my': 1, 'name': 1, 'is': 1, 'hey': 1, 'i': 1, 'am': 1})\n"
     ]
    },
    {
     "data": {
      "text/plain": [
       "collections.Counter"
      ]
     },
     "execution_count": 5,
     "metadata": {},
     "output_type": "execute_result"
    }
   ],
   "source": [
    "s = input(\"enter string: \")\n",
    "s = s.casefold()    # to avoid case sensitive characters\n",
    "s = s.split()\n",
    "ct = collections.Counter(s)\n",
    "print(\"frequency: \",ct)\n",
    "type(ct)"
   ]
  },
  {
   "cell_type": "code",
   "execution_count": 5,
   "metadata": {},
   "outputs": [
    {
     "name": "stdout",
     "output_type": "stream",
     "text": [
      "['M', 'y', ' ', 'n', 'a', 'm', 'e', ' ', 'i', 's', ' ', 'M', 'o', 'h', 'd', ' ', 'I', 'z', 'h', 'a', 'r']\n"
     ]
    }
   ],
   "source": [
    "freq = []\n",
    "for i in s:\n",
    "    for j in i:\n",
    "        freq.append(j)\n",
    "print(freq)\n",
    "        "
   ]
  },
  {
   "cell_type": "code",
   "execution_count": 2,
   "metadata": {},
   "outputs": [
    {
     "name": "stdout",
     "output_type": "stream",
     "text": [
      "enter string: google\n",
      "{'g': 2, 'o': 2, 'l': 1, 'e': 1}\n"
     ]
    }
   ],
   "source": [
    "# frequency calculation without using inbuilt modules:\n",
    "\"\"\"elem = []\n",
    "for i in s:\n",
    "    for j in i:\n",
    "        elem.append(j)\n",
    "#print(elem)\n",
    "\"\"\"\n",
    "s = input(\"enter string: \")\n",
    "elem = list(s)\n",
    "l = {}\n",
    "for k in elem:\n",
    "    count = 0\n",
    "    for e in range(len(s)):\n",
    "        if k == elem[e]:\n",
    "            count += 1\n",
    "    #print(k,count,\"\\t\")\n",
    "    l[k] = count\n",
    "print(l)"
   ]
  },
  {
   "cell_type": "code",
   "execution_count": 7,
   "metadata": {},
   "outputs": [
    {
     "data": {
      "text/plain": [
       "15"
      ]
     },
     "execution_count": 7,
     "metadata": {},
     "output_type": "execute_result"
    }
   ],
   "source": [
    "len(l)"
   ]
  },
  {
   "cell_type": "code",
   "execution_count": 8,
   "metadata": {},
   "outputs": [
    {
     "data": {
      "text/plain": [
       "15"
      ]
     },
     "execution_count": 8,
     "metadata": {},
     "output_type": "execute_result"
    }
   ],
   "source": [
    "len(ct)"
   ]
  },
  {
   "cell_type": "code",
   "execution_count": 9,
   "metadata": {},
   "outputs": [
    {
     "data": {
      "text/plain": [
       "True"
      ]
     },
     "execution_count": 9,
     "metadata": {},
     "output_type": "execute_result"
    }
   ],
   "source": [
    "l == ct"
   ]
  },
  {
   "cell_type": "code",
   "execution_count": 10,
   "metadata": {},
   "outputs": [
    {
     "data": {
      "text/plain": [
       "dict"
      ]
     },
     "execution_count": 10,
     "metadata": {},
     "output_type": "execute_result"
    }
   ],
   "source": [
    "type(l)"
   ]
  },
  {
   "cell_type": "code",
   "execution_count": 11,
   "metadata": {},
   "outputs": [
    {
     "data": {
      "text/plain": [
       "collections.Counter"
      ]
     },
     "execution_count": 11,
     "metadata": {},
     "output_type": "execute_result"
    }
   ],
   "source": [
    "type(ct)"
   ]
  },
  {
   "cell_type": "code",
   "execution_count": 12,
   "metadata": {},
   "outputs": [
    {
     "data": {
      "text/plain": [
       "['M',\n",
       " 'y',\n",
       " ' ',\n",
       " 'n',\n",
       " 'a',\n",
       " 'm',\n",
       " 'e',\n",
       " ' ',\n",
       " 'i',\n",
       " 's',\n",
       " ' ',\n",
       " 'M',\n",
       " 'o',\n",
       " 'h',\n",
       " 'd',\n",
       " ' ',\n",
       " 'I',\n",
       " 'z',\n",
       " 'h',\n",
       " 'a',\n",
       " 'r']"
      ]
     },
     "execution_count": 12,
     "metadata": {},
     "output_type": "execute_result"
    }
   ],
   "source": [
    "list(s)"
   ]
  },
  {
   "cell_type": "code",
   "execution_count": 3,
   "metadata": {},
   "outputs": [
    {
     "name": "stdout",
     "output_type": "stream",
     "text": [
      "{'g': 2, 'o': 2, 'l': 1, 'e': 1}\n"
     ]
    }
   ],
   "source": [
    "#udemy optimize solution\n",
    "def char_frequency(str1):\n",
    "    dict = {}\n",
    "    for n in str1:\n",
    "        keys = dict.keys()\n",
    "        #print(keys)\n",
    "        if n in keys:\n",
    "            dict[n] += 1\n",
    "        else:\n",
    "            dict[n] = 1\n",
    "    return dict\n",
    "print(char_frequency('google'))"
   ]
  },
  {
   "cell_type": "code",
   "execution_count": 2,
   "metadata": {},
   "outputs": [
    {
     "name": "stdout",
     "output_type": "stream",
     "text": [
      "{'i': 1, 'z': 1, 'h': 2, 'a': 3, 'r': 1, ' ': 1, 'm': 1, 'd': 1}\n"
     ]
    }
   ],
   "source": [
    "s = \"izhar ahmad\"\n",
    "k = {}\n",
    "for i in s:\n",
    "    #print(i)\n",
    "    x = k.keys()\n",
    "#print(x)\n",
    "    if i in x:\n",
    "        k[i] +=1\n",
    "    else:\n",
    "        k[i] =1\n",
    "print(k)"
   ]
  },
  {
   "cell_type": "code",
   "execution_count": 7,
   "metadata": {},
   "outputs": [
    {
     "name": "stdout",
     "output_type": "stream",
     "text": [
      "[['i', 1], ['z', 1], ['h', 2], ['a', 3], ['r', 1], [' ', 1], ['m', 1], ['d', 1]]\n"
     ]
    }
   ],
   "source": [
    "x =[]\n",
    "for key,val in k.items():\n",
    "    x.append(list((key,val)))\n",
    "print(x)"
   ]
  },
  {
   "cell_type": "code",
   "execution_count": 2,
   "metadata": {},
   "outputs": [
    {
     "name": "stdout",
     "output_type": "stream",
     "text": [
      "enter string: Write a Python program to count the words in the ﬁle using a dictionary (use space as a delimiter). Find unique words and the count of their occurrences(ignoring case). Write the output in another ﬁle \"words.txt\" at the same location\n",
      "{'Write': 2, 'a': 3, 'Python': 1, 'program': 1, 'to': 1, 'count': 2, 'the': 5, 'words': 2, 'in': 2, 'ﬁle': 2, 'using': 1, 'dictionary': 1, '(use': 1, 'space': 1, 'as': 1, 'delimiter).': 1, 'Find': 1, 'unique': 1, 'and': 1, 'of': 1, 'their': 1, 'occurrences(ignoring': 1, 'case).': 1, 'output': 1, 'another': 1, '\"words.txt\"': 1, 'at': 1, 'same': 1, 'location': 1}\n"
     ]
    }
   ],
   "source": [
    "# frequency of words\n",
    "s = input(\"enter string: \")\n",
    "words=s.split()\n",
    "d = {}\n",
    "for word in words:\n",
    "    k = d.keys()\n",
    "    if word in k:\n",
    "        d[word] +=1\n",
    "    else:\n",
    "        d[word] = 1\n",
    "print(d)\n",
    "        "
   ]
  },
  {
   "cell_type": "code",
   "execution_count": 1,
   "metadata": {},
   "outputs": [
    {
     "ename": "NameError",
     "evalue": "name 'student_tuples' is not defined",
     "output_type": "error",
     "traceback": [
      "\u001b[1;31m---------------------------------------------------------------------------\u001b[0m",
      "\u001b[1;31mNameError\u001b[0m                                 Traceback (most recent call last)",
      "\u001b[1;32m<ipython-input-1-b0ef415d4739>\u001b[0m in \u001b[0;36m<module>\u001b[1;34m()\u001b[0m\n\u001b[1;32m----> 1\u001b[1;33m \u001b[0msorted\u001b[0m\u001b[1;33m(\u001b[0m\u001b[0mstudent_tuples\u001b[0m\u001b[1;33m,\u001b[0m \u001b[0mkey\u001b[0m\u001b[1;33m=\u001b[0m\u001b[1;32mlambda\u001b[0m \u001b[0mstudent\u001b[0m\u001b[1;33m:\u001b[0m \u001b[0mstudent\u001b[0m\u001b[1;33m[\u001b[0m\u001b[1;36m2\u001b[0m\u001b[1;33m]\u001b[0m\u001b[1;33m)\u001b[0m   \u001b[1;31m# sort by age\u001b[0m\u001b[1;33m\u001b[0m\u001b[0m\n\u001b[0m",
      "\u001b[1;31mNameError\u001b[0m: name 'student_tuples' is not defined"
     ]
    }
   ],
   "source": [
    "sorted(student_tuples, key=lambda student: student[2])   # sort by age\n"
   ]
  },
  {
   "cell_type": "code",
   "execution_count": 5,
   "metadata": {},
   "outputs": [
    {
     "name": "stdout",
     "output_type": "stream",
     "text": [
      "['e', 'q', 'r', 't', 'w', 'y']\n",
      "['e', 'q', 'r', 't', 'w', 'y']\n",
      "['h', 'n', 'o', 'p', 't', 'y']\n",
      "['e', 'q', 'r', 't', 'w', 'y']\n",
      "['e', 'q', 'r', 't', 'w', 'y']\n",
      "['e', 'q', 'r', 't', 'w', 'y']\n"
     ]
    }
   ],
   "source": [
    "# List \n",
    "x = ['q', 'w', 'r', 'e', 't', 'y'] \n",
    "print(sorted(x)) \n",
    "  \n",
    "# Tuple \n",
    "x = ('q', 'w', 'e', 'r', 't', 'y') \n",
    "print(sorted(x)) \n",
    "\n",
    "# String-sorted based on ASCII translations \n",
    "x = \"python\"\n",
    "print(sorted(x)) \n",
    "  \n",
    "# Dictionary \n",
    "x = {'q':1, 'w':2, 'e':3, 'r':4, 't':5, 'y':6} \n",
    "print(sorted(x)) \n",
    "  \n",
    "# Set \n",
    "x = {'q', 'w', 'e', 'r', 't', 'y'} \n",
    "print(sorted(x)) \n",
    "  \n",
    "# Frozen Set \n",
    "x = frozenset(('q', 'w', 'e', 'r', 't', 'y')) \n",
    "print(sorted(x)) "
   ]
  },
  {
   "cell_type": "code",
   "execution_count": null,
   "metadata": {},
   "outputs": [],
   "source": []
  }
 ],
 "metadata": {
  "kernelspec": {
   "display_name": "Python 3",
   "language": "python",
   "name": "python3"
  },
  "language_info": {
   "codemirror_mode": {
    "name": "ipython",
    "version": 3
   },
   "file_extension": ".py",
   "mimetype": "text/x-python",
   "name": "python",
   "nbconvert_exporter": "python",
   "pygments_lexer": "ipython3",
   "version": "3.6.4"
  }
 },
 "nbformat": 4,
 "nbformat_minor": 2
}
