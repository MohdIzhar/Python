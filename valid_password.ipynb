{
 "cells": [
  {
   "cell_type": "code",
   "execution_count": 2,
   "metadata": {},
   "outputs": [
    {
     "name": "stdout",
     "output_type": "stream",
     "text": [
      "enter password: ········\n",
      "Valid Password\n",
      "executed else\n"
     ]
    }
   ],
   "source": [
    "import re\n",
    "import getpass\n",
    "p = getpass.getpass(\"enter password: \")\n",
    "x = True\n",
    "while x:  \n",
    "    if (len(p)<6 or len(p)>12):\n",
    "        print(\"executed if\")\n",
    "        break\n",
    "    elif not re.search(\"[a-z]\",p):\n",
    "        print(\"executed elif 1\")\n",
    "        break\n",
    "    elif not re.search(\"[0-9]\",p):\n",
    "        print(\"executed elif 2\")\n",
    "        break\n",
    "    elif not re.search(\"[A-Z]\",p):\n",
    "        print(\"executed elif 3\")\n",
    "        break\n",
    "    elif not re.search(\"[$#@]\",p):\n",
    "        print(\"executed elif 4\")\n",
    "        break\n",
    "    elif re.search(\"\\s\",p):\n",
    "        print(\"executed elif 5\")\n",
    "        break\n",
    "    else:\n",
    "        print(\"Valid Password\")\n",
    "        print(\"executed else\")\n",
    "        x=False\n",
    "        break\n",
    "if x:\n",
    "    print(\"Not a Valid Password, password must contain atleast [a-z],[A-Z],[1-9],[specialsymbols]\")"
   ]
  },
  {
   "cell_type": "code",
   "execution_count": null,
   "metadata": {},
   "outputs": [],
   "source": []
  }
 ],
 "metadata": {
  "kernelspec": {
   "display_name": "Python 3",
   "language": "python",
   "name": "python3"
  },
  "language_info": {
   "codemirror_mode": {
    "name": "ipython",
    "version": 3
   },
   "file_extension": ".py",
   "mimetype": "text/x-python",
   "name": "python",
   "nbconvert_exporter": "python",
   "pygments_lexer": "ipython3",
   "version": "3.6.4"
  }
 },
 "nbformat": 4,
 "nbformat_minor": 2
}
