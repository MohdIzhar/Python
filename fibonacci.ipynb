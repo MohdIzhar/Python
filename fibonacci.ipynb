{
 "cells": [
  {
   "cell_type": "code",
   "execution_count": 14,
   "metadata": {},
   "outputs": [
    {
     "name": "stdout",
     "output_type": "stream",
     "text": [
      "enter the number upto which you want number of series: 7\n",
      "0 1 1 2 3 5 13\n"
     ]
    }
   ],
   "source": [
    "num = int(input(\"enter the number upto which you want number of series: \"))\n",
    "num1,num2 = 0,1\n",
    "while num2<=num+1:\n",
    "    print(num1,end=\" \")\n",
    "    num1,num2 = num2,num1+num2\n",
    "print(num2)\n",
    "#note:-> upto u want or number of elements u want are totally different"
   ]
  },
  {
   "cell_type": "code",
   "execution_count": null,
   "metadata": {},
   "outputs": [],
   "source": []
  }
 ],
 "metadata": {
  "kernelspec": {
   "display_name": "Python 3",
   "language": "python",
   "name": "python3"
  },
  "language_info": {
   "codemirror_mode": {
    "name": "ipython",
    "version": 3
   },
   "file_extension": ".py",
   "mimetype": "text/x-python",
   "name": "python",
   "nbconvert_exporter": "python",
   "pygments_lexer": "ipython3",
   "version": "3.6.4"
  }
 },
 "nbformat": 4,
 "nbformat_minor": 2
}
