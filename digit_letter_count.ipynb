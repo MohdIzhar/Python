{
 "cells": [
  {
   "cell_type": "code",
   "execution_count": 3,
   "metadata": {},
   "outputs": [
    {
     "name": "stdout",
     "output_type": "stream",
     "text": [
      "enter string with digits: my name is izhar and i am 22\n",
      "digit:  2\n",
      "leters:  19\n"
     ]
    }
   ],
   "source": [
    "s = input(\"enter string with digits: \")\n",
    "l=d= 0;\n",
    "for c in s:\n",
    "    if (c.isdigit()):\n",
    "        d=d+1\n",
    "    elif(c.isalpha()):\n",
    "        l=l+1\n",
    "    else:\n",
    "        pass\n",
    "print(\"digit: \",d)\n",
    "print(\"leters: \",l)"
   ]
  },
  {
   "cell_type": "code",
   "execution_count": null,
   "metadata": {},
   "outputs": [],
   "source": []
  }
 ],
 "metadata": {
  "kernelspec": {
   "display_name": "Python 3",
   "language": "python",
   "name": "python3"
  },
  "language_info": {
   "codemirror_mode": {
    "name": "ipython",
    "version": 3
   },
   "file_extension": ".py",
   "mimetype": "text/x-python",
   "name": "python",
   "nbconvert_exporter": "python",
   "pygments_lexer": "ipython3",
   "version": "3.6.4"
  }
 },
 "nbformat": 4,
 "nbformat_minor": 2
}
