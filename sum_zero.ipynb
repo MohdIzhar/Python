{
 "cells": [
  {
   "cell_type": "code",
   "execution_count": 6,
   "metadata": {},
   "outputs": [
    {
     "name": "stdout",
     "output_type": "stream",
     "text": [
      "[[-10, 2, 8], [-7, -3, 10]]\n"
     ]
    }
   ],
   "source": [
    "class py_solution:\n",
    "    def threeSum(self, nums):\n",
    "        nums, result, i = sorted(nums), [], 0\n",
    "        while i < len(nums) - 2:\n",
    "            j, k = i + 1, len(nums) - 1\n",
    "            while j < k:\n",
    "                if nums[i] + nums[j] + nums[k] < 0:\n",
    "                    j += 1\n",
    "                elif nums[i] + nums[j] + nums[k] > 0:\n",
    "                    k -= 1\n",
    "                else:\n",
    "                    result.append([nums[i], nums[j], nums[k]])\n",
    "                    j, k = j + 1, k - 1\n",
    "                    while j < k and nums[j] == nums[j - 1]:\n",
    "                        j += 1\n",
    "                    while j < k and nums[k] == nums[k + 1]:\n",
    "                        k -= 1\n",
    "            i += 1\n",
    "            while i < len(nums) - 2 and nums[i] == nums[i - 1]:\n",
    "                i += 1\n",
    "        return result\n",
    "print(py_solution().threeSum([-25, -10, -7, -3, 2, 4, 8, 10]))\n"
   ]
  },
  {
   "cell_type": "code",
   "execution_count": 9,
   "metadata": {},
   "outputs": [
    {
     "name": "stdout",
     "output_type": "stream",
     "text": [
      "[[-5, 0, 5], [-3, 2, 1]]\n"
     ]
    }
   ],
   "source": [
    "class s_zero:\n",
    "    def three(self,num):\n",
    "        self.num,result,i=sorted(num),[],0\n",
    "        while i<len(num) - 2:\n",
    "            j,k=i+1,len(num)-1\n",
    "            while j<k:\n",
    "                if num[i]+num[j]+num[k] < 0:\n",
    "                    j +=1\n",
    "                elif num[i]+num[j]+num[k] > 0:\n",
    "                    k -=1\n",
    "                else:\n",
    "                    result.append([num[i],num[j],num[k]])\n",
    "                    j,k = j+1,k-1\n",
    "                    while j<k and num[j]==num[j-1]:\n",
    "                        j +=1\n",
    "                    while j<k and num[k] == num[k+1]:\n",
    "                        k -=1\n",
    "            i +=1\n",
    "            while i<len(num) - 2 and num[i] == num[i-1]:\n",
    "                i +=1\n",
    "        return result\n",
    "print(s_zero().three([-5,-3,0,2,1,5]))"
   ]
  },
  {
   "cell_type": "code",
   "execution_count": null,
   "metadata": {},
   "outputs": [],
   "source": []
  }
 ],
 "metadata": {
  "kernelspec": {
   "display_name": "Python 3",
   "language": "python",
   "name": "python3"
  },
  "language_info": {
   "codemirror_mode": {
    "name": "ipython",
    "version": 3
   },
   "file_extension": ".py",
   "mimetype": "text/x-python",
   "name": "python",
   "nbconvert_exporter": "python",
   "pygments_lexer": "ipython3",
   "version": "3.6.4"
  }
 },
 "nbformat": 4,
 "nbformat_minor": 2
}
