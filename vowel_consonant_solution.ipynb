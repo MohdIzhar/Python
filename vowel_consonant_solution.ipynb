{
 "cells": [
  {
   "cell_type": "code",
   "execution_count": 5,
   "metadata": {},
   "outputs": [
    {
     "name": "stdout",
     "output_type": "stream",
     "text": [
      "Enter character for identification: A\n",
      "A is vowel: \n",
      "press 'ENTER' to continue or press 'X' to exit: \n",
      "Enter character for identification: M\n",
      "M is consonant: \n",
      "press 'ENTER' to continue or press 'X' to exit: x\n"
     ]
    },
    {
     "ename": "SystemExit",
     "evalue": "program terminated",
     "output_type": "error",
     "traceback": [
      "An exception has occurred, use %tb to see the full traceback.\n",
      "\u001b[1;31mSystemExit\u001b[0m\u001b[1;31m:\u001b[0m program terminated\n"
     ]
    },
    {
     "name": "stderr",
     "output_type": "stream",
     "text": [
      "D:\\anaconda_new\\lib\\site-packages\\IPython\\core\\interactiveshell.py:2918: UserWarning: To exit: use 'exit', 'quit', or Ctrl-D.\n",
      "  warn(\"To exit: use 'exit', 'quit', or Ctrl-D.\", stacklevel=1)\n"
     ]
    }
   ],
   "source": [
    "import sys\n",
    "while True:\n",
    "    s = input(\"Enter character for identification: \")\n",
    "    if s in ('a','e','i','o','u') or s in ('A','E','I','O','U'):\n",
    "        print(\"%s is vowel: \"%s)\n",
    "    else:\n",
    "        print(\"%s is consonant: \"%s)\n",
    "    x = input(\"press 'ENTER' to continue or press 'X' to exit: \")\n",
    "    if x == \"x\" or x == \"X\":\n",
    "        sys.exit(\"program terminated\")"
   ]
  },
  {
   "cell_type": "code",
   "execution_count": 9,
   "metadata": {},
   "outputs": [
    {
     "name": "stdout",
     "output_type": "stream",
     "text": [
      "Enter String: my name is izhar\n",
      "['m', 'y', 'n', 'a', 'm', 'e', 'i', 's', 'i', 'z', 'h', 'a', 'r']\n",
      "m  is consonant\n",
      "y  is consonant\n",
      "n  is consonant\n",
      "a  is vowel\n",
      "m  is consonant\n",
      "e  is vowel\n",
      "i  is vowel\n",
      "s  is consonant\n",
      "i  is vowel\n",
      "z  is consonant\n",
      "h  is consonant\n",
      "a  is vowel\n",
      "r  is consonant\n",
      "total vowel in string:  5\n",
      "total consonants in string:  8\n"
     ]
    }
   ],
   "source": [
    "# finding numbers of vowels and consonants in a string\n",
    "s = input(\"Enter String: \")\n",
    "s = s.split()\n",
    "lst = []\n",
    "vowel_counter = 0\n",
    "consonant_counter = 0\n",
    "for i in s:\n",
    "    for k in i:\n",
    "        lst.append(k)\n",
    "print(lst)\n",
    "for j in range(len(lst)):\n",
    "    if lst[j] in ('a','e','i','o','u') or lst[j] in ('A','E','I','O','U'):\n",
    "        print(lst[j],\" is vowel\")\n",
    "        vowel_counter +=1\n",
    "    else:\n",
    "        print(lst[j],\" is consonant\")\n",
    "        consonant_counter +=1\n",
    "print(\"total vowel in string: \",vowel_counter)\n",
    "print(\"total consonants in string: \",consonant_counter)"
   ]
  },
  {
   "cell_type": "code",
   "execution_count": 15,
   "metadata": {},
   "outputs": [
    {
     "name": "stdout",
     "output_type": "stream",
     "text": [
      "Enter String: my name is Izhar\n",
      "['m', 'y', 'n', 'a', 'm', 'e', 'i', 's', 'I', 'z', 'h', 'a', 'r']\n",
      "Vowels in strings:  ['a', 'e', 'i', 'I', 'a']\n",
      "Consonants in string:  ['m', 'y', 'n', 'm', 's', 'z', 'h', 'r']\n",
      "string with vowels:  aeiIa\n",
      "string with consonants:  mynmszhr\n"
     ]
    }
   ],
   "source": [
    "# merging characters to a string\n",
    "# finding numbers of vowels and consonants in a string \n",
    "# creating new string with vowels and consonant founds\n",
    "s = input(\"Enter String: \")\n",
    "s = s.split()\n",
    "lst = []\n",
    "vowel = []\n",
    "consonant = []\n",
    "for i in s:\n",
    "    for k in i:\n",
    "        lst.append(k)\n",
    "print(lst)\n",
    "for j in range(len(lst)):\n",
    "    if lst[j] in ('a','e','i','o','u') or lst[j] in ('A','E','I','O','U'):\n",
    "        #print(lst[j],\" is vowel\")\n",
    "        vowel.append(lst[j])\n",
    "    else:\n",
    "        #print(lst[j],\" is consonant\")\n",
    "        consonant.append(lst[j])\n",
    "print(\"Vowels in strings: \",vowel)\n",
    "print(\"Consonants in string: \",consonant)\n",
    "vowel_str = \"\".join(vowel)\n",
    "print(\"string with vowels: \",vowel_str)\n",
    "consonant_str = \"\".join(consonant)\n",
    "print(\"string with consonants: \",consonant_str)"
   ]
  },
  {
   "cell_type": "code",
   "execution_count": null,
   "metadata": {},
   "outputs": [],
   "source": []
  }
 ],
 "metadata": {
  "kernelspec": {
   "display_name": "Python 3",
   "language": "python",
   "name": "python3"
  },
  "language_info": {
   "codemirror_mode": {
    "name": "ipython",
    "version": 3
   },
   "file_extension": ".py",
   "mimetype": "text/x-python",
   "name": "python",
   "nbconvert_exporter": "python",
   "pygments_lexer": "ipython3",
   "version": "3.6.4"
  }
 },
 "nbformat": 4,
 "nbformat_minor": 2
}
